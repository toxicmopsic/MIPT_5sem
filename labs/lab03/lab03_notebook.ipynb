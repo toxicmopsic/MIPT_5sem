{
 "cells": [
  {
   "cell_type": "markdown",
   "metadata": {},
   "source": [
    "### Задача 1"
   ]
  },
  {
   "cell_type": "code",
   "execution_count": 75,
   "metadata": {},
   "outputs": [],
   "source": [
    "import os\n",
    "\n",
    "def tenet(input_file_path: str, output_file_path: str) -> None:\n",
    "    if os.path.isdir(input_file_path): \n",
    "        raise ValueError('Input file path is directory. Can not open.')\n",
    "    if input_file_path == output_file_path:\n",
    "        raise ValueError('Input file path is output file path.')\n",
    "    \n",
    "    output_file = open(output_file_path, 'w')\n",
    "    \n",
    "    with open(input_file_path, 'r') as input_file:\n",
    "        for line in input_file:\n",
    "            if line[-1] == '\\n':\n",
    "                output_file.write(line[::-1][1:]+ '\\n')\n",
    "            else:\n",
    "                output_file.write(line[::-1])"
   ]
  },
  {
   "cell_type": "code",
   "execution_count": 45,
   "metadata": {},
   "outputs": [
    {
     "ename": "ValueError",
     "evalue": "Input file path is directory. Can not open.",
     "output_type": "error",
     "traceback": [
      "\u001b[1;31m---------------------------------------------------------------------------\u001b[0m",
      "\u001b[1;31mValueError\u001b[0m                                Traceback (most recent call last)",
      "\u001b[1;32m<ipython-input-45-07abc86315bd>\u001b[0m in \u001b[0;36m<module>\u001b[1;34m\u001b[0m\n\u001b[1;32m----> 1\u001b[1;33m \u001b[0mtenet\u001b[0m\u001b[1;33m(\u001b[0m\u001b[1;34m'test_folder'\u001b[0m\u001b[1;33m,\u001b[0m \u001b[1;34m'test'\u001b[0m\u001b[1;33m)\u001b[0m\u001b[1;33m\u001b[0m\u001b[0m\n\u001b[0m",
      "\u001b[1;32m<ipython-input-44-1f109f55a356>\u001b[0m in \u001b[0;36mtenet\u001b[1;34m(input_file_path, output_file_path)\u001b[0m\n\u001b[0;32m      3\u001b[0m \u001b[1;32mdef\u001b[0m \u001b[0mtenet\u001b[0m\u001b[1;33m(\u001b[0m\u001b[0minput_file_path\u001b[0m\u001b[1;33m:\u001b[0m \u001b[0mstr\u001b[0m\u001b[1;33m,\u001b[0m \u001b[0moutput_file_path\u001b[0m\u001b[1;33m:\u001b[0m \u001b[0mstr\u001b[0m\u001b[1;33m)\u001b[0m \u001b[1;33m->\u001b[0m \u001b[1;32mNone\u001b[0m\u001b[1;33m:\u001b[0m\u001b[1;33m\u001b[0m\u001b[0m\n\u001b[0;32m      4\u001b[0m     \u001b[1;32mif\u001b[0m \u001b[0mos\u001b[0m\u001b[1;33m.\u001b[0m\u001b[0mpath\u001b[0m\u001b[1;33m.\u001b[0m\u001b[0misdir\u001b[0m\u001b[1;33m(\u001b[0m\u001b[0minput_file_path\u001b[0m\u001b[1;33m)\u001b[0m\u001b[1;33m:\u001b[0m\u001b[1;33m\u001b[0m\u001b[0m\n\u001b[1;32m----> 5\u001b[1;33m         \u001b[1;32mraise\u001b[0m \u001b[0mValueError\u001b[0m\u001b[1;33m(\u001b[0m\u001b[1;34m'Input file path is directory. Can not open.'\u001b[0m\u001b[1;33m)\u001b[0m\u001b[1;33m\u001b[0m\u001b[0m\n\u001b[0m\u001b[0;32m      6\u001b[0m     \u001b[1;32massert\u001b[0m \u001b[0minput_file_path\u001b[0m \u001b[1;33m==\u001b[0m \u001b[0moutput_file_path\u001b[0m\u001b[1;33m,\u001b[0m \u001b[0mValueError\u001b[0m\u001b[1;33m(\u001b[0m\u001b[1;34m'Input file path is output file path.'\u001b[0m\u001b[1;33m)\u001b[0m\u001b[1;33m\u001b[0m\u001b[0m\n\u001b[0;32m      7\u001b[0m \u001b[1;33m\u001b[0m\u001b[0m\n",
      "\u001b[1;31mValueError\u001b[0m: Input file path is directory. Can not open."
     ]
    }
   ],
   "source": [
    "tenet('test_folder', 'test')"
   ]
  },
  {
   "cell_type": "code",
   "execution_count": 51,
   "metadata": {},
   "outputs": [
    {
     "ename": "ValueError",
     "evalue": "Input file path is output file path.",
     "output_type": "error",
     "traceback": [
      "\u001b[1;31m---------------------------------------------------------------------------\u001b[0m",
      "\u001b[1;31mValueError\u001b[0m                                Traceback (most recent call last)",
      "\u001b[1;32m<ipython-input-51-87c5b7a43827>\u001b[0m in \u001b[0;36m<module>\u001b[1;34m\u001b[0m\n\u001b[1;32m----> 1\u001b[1;33m \u001b[0mtenet\u001b[0m\u001b[1;33m(\u001b[0m\u001b[1;34m'input.txt'\u001b[0m\u001b[1;33m,\u001b[0m \u001b[1;34m'input.txt'\u001b[0m\u001b[1;33m)\u001b[0m\u001b[1;33m\u001b[0m\u001b[0m\n\u001b[0m",
      "\u001b[1;32m<ipython-input-50-9f3ce54347e4>\u001b[0m in \u001b[0;36mtenet\u001b[1;34m(input_file_path, output_file_path)\u001b[0m\n\u001b[0;32m      5\u001b[0m         \u001b[1;32mraise\u001b[0m \u001b[0mValueError\u001b[0m\u001b[1;33m(\u001b[0m\u001b[1;34m'Input file path is directory. Can not open.'\u001b[0m\u001b[1;33m)\u001b[0m\u001b[1;33m\u001b[0m\u001b[0m\n\u001b[0;32m      6\u001b[0m     \u001b[1;32mif\u001b[0m \u001b[0minput_file_path\u001b[0m \u001b[1;33m==\u001b[0m \u001b[0moutput_file_path\u001b[0m\u001b[1;33m:\u001b[0m\u001b[1;33m\u001b[0m\u001b[0m\n\u001b[1;32m----> 7\u001b[1;33m         \u001b[1;32mraise\u001b[0m \u001b[0mValueError\u001b[0m\u001b[1;33m(\u001b[0m\u001b[1;34m'Input file path is output file path.'\u001b[0m\u001b[1;33m)\u001b[0m\u001b[1;33m\u001b[0m\u001b[0m\n\u001b[0m\u001b[0;32m      8\u001b[0m \u001b[1;33m\u001b[0m\u001b[0m\n\u001b[0;32m      9\u001b[0m     \u001b[0moutput_file\u001b[0m \u001b[1;33m=\u001b[0m \u001b[0mopen\u001b[0m\u001b[1;33m(\u001b[0m\u001b[0moutput_file_path\u001b[0m\u001b[1;33m,\u001b[0m \u001b[1;34m'w'\u001b[0m\u001b[1;33m)\u001b[0m\u001b[1;33m\u001b[0m\u001b[0m\n",
      "\u001b[1;31mValueError\u001b[0m: Input file path is output file path."
     ]
    }
   ],
   "source": [
    "tenet('input.txt', 'input.txt')"
   ]
  },
  {
   "cell_type": "code",
   "execution_count": 76,
   "metadata": {},
   "outputs": [],
   "source": [
    "tenet('input.txt', 'output.txt')"
   ]
  },
  {
   "cell_type": "markdown",
   "metadata": {},
   "source": [
    "### Задача 2"
   ]
  },
  {
   "cell_type": "code",
   "execution_count": 82,
   "metadata": {},
   "outputs": [],
   "source": [
    "from tempfile import NamedTemporaryFile\n",
    "\n",
    "def tenet_opt(input_file_path: str, output_file_path: str = None) -> None:\n",
    "    if output_file_path:\n",
    "        tenet(input_file_path, output_file_path)\n",
    "        return output_file_path\n",
    "    \n",
    "    output_file = NamedTemporaryFile(mode='w')\n",
    "    \n",
    "    with open(input_file_path, 'r') as input_file:\n",
    "        for line in input_file:\n",
    "            if line[-1] == '\\n':\n",
    "                output_file.write(line[::-1][1:]+ '\\n')\n",
    "            else:\n",
    "                output_file.write(line[::-1])\n",
    "    return os.path.dirname(output_file.name)"
   ]
  },
  {
   "cell_type": "code",
   "execution_count": 83,
   "metadata": {},
   "outputs": [
    {
     "data": {
      "text/plain": [
       "'C:\\\\Users\\\\sodik\\\\AppData\\\\Local\\\\Temp'"
      ]
     },
     "execution_count": 83,
     "metadata": {},
     "output_type": "execute_result"
    }
   ],
   "source": [
    "tenet_opt('input.txt')"
   ]
  },
  {
   "cell_type": "markdown",
   "metadata": {},
   "source": [
    "### Задача 3"
   ]
  },
  {
   "cell_type": "markdown",
   "metadata": {},
   "source": [
    "В отдельном .ру файле (lab03_03_python.py)"
   ]
  },
  {
   "cell_type": "markdown",
   "metadata": {},
   "source": [
    "### Задача 4"
   ]
  },
  {
   "cell_type": "code",
   "execution_count": 93,
   "metadata": {},
   "outputs": [
    {
     "name": "stdout",
     "output_type": "stream",
     "text": [
      "Collecting pip\n",
      "  Downloading https://files.pythonhosted.org/packages/cb/28/91f26bd088ce8e22169032100d4260614fc3da435025ff389ef1d396a433/pip-20.2.4-py2.py3-none-any.whl (1.5MB)\n",
      "Installing collected packages: pip\n",
      "  Found existing installation: pip 19.0\n",
      "    Uninstalling pip-19.0:\n",
      "      Successfully uninstalled pip-19.0\n",
      "Successfully installed pip-20.2.4\n",
      "Requirement already satisfied: psutil in c:\\users\\sodik\\appdata\\local\\programs\\python\\python36\\lib\\site-packages (5.7.3)\n"
     ]
    }
   ],
   "source": [
    "! python -m pip install --upgrade pip\n",
    "! pip3 install psutil"
   ]
  },
  {
   "cell_type": "code",
   "execution_count": 164,
   "metadata": {},
   "outputs": [],
   "source": [
    "from psutil import virtual_memory\n",
    "\n",
    "def tenet_mem(input_file_path: str, output_file_path: str):\n",
    "    if os.path.getsize(input_file_path) > virtual_memory().total:\n",
    "        raise MemoryError('No available space in memory')\n",
    "    \n",
    "    input_file = open(input_file_path, 'r')\n",
    "    input_file.buffer.read()\n",
    "    \n",
    "    tenet(input_file_path, output_file_path)\n",
    "    \n",
    "    buff_after = input_file.buffer.read()\n",
    "    \n",
    "    if buff_after != '':\n",
    "        os.remove(output_file_path)\n",
    "        raise RuntimeError('Input file was changed during reading. Undefined behaviour.')"
   ]
  },
  {
   "cell_type": "code",
   "execution_count": 161,
   "metadata": {},
   "outputs": [
    {
     "data": {
      "text/plain": [
       "b'ddssss'"
      ]
     },
     "execution_count": 161,
     "metadata": {},
     "output_type": "execute_result"
    }
   ],
   "source": [
    "f1 = open('input.txt', 'r')\n",
    "f1.buffer.read()"
   ]
  },
  {
   "cell_type": "code",
   "execution_count": null,
   "metadata": {},
   "outputs": [],
   "source": [
    "f11 = open('input.txt', 'a')\n",
    "f11.write('1111')"
   ]
  },
  {
   "cell_type": "code",
   "execution_count": 162,
   "metadata": {},
   "outputs": [
    {
     "data": {
      "text/plain": [
       "b'1111'"
      ]
     },
     "execution_count": 162,
     "metadata": {},
     "output_type": "execute_result"
    }
   ],
   "source": [
    "f1.buffer.read()"
   ]
  },
  {
   "cell_type": "markdown",
   "metadata": {},
   "source": [
    "Т.е., при считывании из буффера, прежнее значение очищается, следовательно, мы можем так детектировать изменения, которые произошли в этом файле."
   ]
  },
  {
   "cell_type": "markdown",
   "metadata": {},
   "source": [
    "### Задача 5"
   ]
  },
  {
   "cell_type": "code",
   "execution_count": 176,
   "metadata": {},
   "outputs": [],
   "source": [
    "def tenet2(input_file_path: str, output_file_path: str) -> None:\n",
    "    if os.path.isdir(input_file_path): \n",
    "        raise ValueError('Input file path is directory. Can not open.')\n",
    "\n",
    "    input_file = open(input_file_path, 'r')\n",
    "    buff = []\n",
    "\n",
    "    for line in input_file:\n",
    "        if line[-1] == '\\n':\n",
    "            buff.append(line[::-1][1:]+ '\\n')\n",
    "        else:\n",
    "            buff.append(line[::-1])\n",
    "    input_file.close()\n",
    "    \n",
    "    output_file = open(output_file_path, 'w')\n",
    "    output_file.write(''.join(buff))\n",
    "    output_file.close()"
   ]
  },
  {
   "cell_type": "code",
   "execution_count": 170,
   "metadata": {},
   "outputs": [],
   "source": [
    "s = ['df\\n', 'dsdf\\n', 'd']\n",
    "f1 = open('tmp.txt', 'w')\n",
    "f1.write(''.join(s))\n",
    "f1.close()"
   ]
  },
  {
   "cell_type": "code",
   "execution_count": 177,
   "metadata": {},
   "outputs": [],
   "source": [
    "tenet2('input.txt', 'input.txt')"
   ]
  }
 ],
 "metadata": {
  "kernelspec": {
   "display_name": "Python 3",
   "language": "python",
   "name": "python3"
  },
  "language_info": {
   "codemirror_mode": {
    "name": "ipython",
    "version": 3
   },
   "file_extension": ".py",
   "mimetype": "text/x-python",
   "name": "python",
   "nbconvert_exporter": "python",
   "pygments_lexer": "ipython3",
   "version": "3.8.3"
  }
 },
 "nbformat": 4,
 "nbformat_minor": 2
}
