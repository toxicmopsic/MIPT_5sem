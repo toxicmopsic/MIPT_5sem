{
 "cells": [
  {
   "cell_type": "markdown",
   "metadata": {},
   "source": [
    "### Задача 1 («ДНК»)"
   ]
  },
  {
   "cell_type": "markdown",
   "metadata": {},
   "source": [
    "Реализуйте классы для ДНК (двойная цепочка) и РНК (одинарная цепочка)."
   ]
  },
  {
   "cell_type": "code",
   "execution_count": 231,
   "metadata": {},
   "outputs": [],
   "source": [
    "import random\n",
    "\n",
    "\n",
    "class RNA:\n",
    "    def __init__(self, chain: str):\n",
    "        self.__CORRECT_BASES = {'A', 'C', 'G', 'U'}\n",
    "        self.__chain = chain\n",
    "        self.__is_correct()\n",
    "\n",
    "    def compute_complement_dna(self):\n",
    "        return DNA(self.__chain)\n",
    "\n",
    "    def __getitem__(self, index):\n",
    "        return self.__chain[index]\n",
    "\n",
    "    def __eq__(self, other):\n",
    "        return self.__chain == other.__chain\n",
    "\n",
    "    def __add__(self, other):\n",
    "        return RNA(self.__chain + other.__chain)\n",
    "\n",
    "    def __str__(self):\n",
    "        return self.__chain\n",
    "\n",
    "    def __repr__(self):\n",
    "        return self.__chain\n",
    "\n",
    "    def __len__(self):\n",
    "        return len(self.__chain)\n",
    "\n",
    "    def __is_correct(self):\n",
    "        assert set(self.__chain).issubset(self.__CORRECT_BASES), Exception('Incorrect RNA chain!')\n",
    "\n",
    "    def __mul__(self, other):\n",
    "        if len(self) < len(other):\n",
    "            return RNA(''.join([self[i] if random.randint(0, 1) else other[i]\n",
    "                                for i in range(len(self))]) + other[-(len(other) - len(self)):])\n",
    "        if len(self) > len(other):\n",
    "            return RNA(''.join([other[i] if random.randint(0, 1) else self[i]\n",
    "                                for i in range(len(other))]) + self[-(len(self) - len(other)):])\n",
    "        return RNA(''.join([other[i] if random.randint(0, 1) else self[i]\n",
    "                            for i in range(len(other))]))\n",
    "\n",
    "\n",
    "class DNA:\n",
    "    def __init__(self, arg):\n",
    "        self.__COMPL_DNA_1_DICT = {'A': 'T',\n",
    "                                   'U': 'A',\n",
    "                                   'G': 'C',\n",
    "                                   'C': 'G'}\n",
    "        self.__COMPL_DNA_2_DICT = {'A': 'T',\n",
    "                                   'T': 'A',\n",
    "                                   'G': 'C',\n",
    "                                   'C': 'G'}\n",
    "        self.__CORRECT_BASES = {'A', 'C', 'G', 'T'}\n",
    "\n",
    "        # From list of main and [complement] base[s]\n",
    "        if type(arg) == list:\n",
    "            self.__main_chain = arg[0]\n",
    "            try:\n",
    "                self.__comp_chain = arg[1]\n",
    "            except IndexError:\n",
    "                self.__compute_complement_base()\n",
    "\n",
    "        # From RNA instance\n",
    "        if type(arg) == str:\n",
    "            self.__main_chain = []\n",
    "            for base in arg:\n",
    "                self.__main_chain.append(self.__COMPL_DNA_1_DICT[base])\n",
    "            self.__main_chain = ''.join(self.__main_chain)\n",
    "            self.__compute_complement_base()\n",
    "\n",
    "        self.__is_correct()\n",
    "\n",
    "    def __compute_complement_base(self):\n",
    "        self.__comp_chain = []\n",
    "        for base in self.__main_chain:\n",
    "            self.__comp_chain.append(self.__COMPL_DNA_2_DICT[base])\n",
    "        self.__comp_chain = ''.join(self.__comp_chain)\n",
    "\n",
    "    def __getitem__(self, index):\n",
    "        return self.__main_chain[index], self.__comp_chain[index]\n",
    "\n",
    "    def __eq__(self, other):\n",
    "        return self.__main_chain == other.__main_chain and \\\n",
    "               self.__comp_chain == other.__comp_chain\n",
    "\n",
    "    def __add__(self, other):\n",
    "        return DNA([self.__main_chain + other.__main_chain,\n",
    "                    self.__comp_chain + other.__comp_chain])\n",
    "\n",
    "    def __str__(self):\n",
    "        return str(self.__main_chain + ' ' + self.__comp_chain)\n",
    "\n",
    "    def __repr__(self):\n",
    "        return self.__str__()\n",
    "\n",
    "    def __len__(self):\n",
    "        return len(self.__main_chain)\n",
    "\n",
    "    def __is_correct(self):\n",
    "        if set(self.__main_chain).issubset(self.__CORRECT_BASES) and \\\n",
    "                set(self.__comp_chain).issubset(self.__CORRECT_BASES):\n",
    "            return True\n",
    "        else:\n",
    "            raise Exception('Incorrect DNA chain!')\n",
    "\n",
    "    def __mul__(self, other):\n",
    "        new_main_chain = None\n",
    "        if len(self.__main_chain) < len(other.__main_chain):\n",
    "            new_main_chain = ''.join([self.__main_chain[i] if random.randint(0, 1) else other.__main_chain[i]\n",
    "                                      for i in range(len(self))]) + other[-(len(other) - len(self)):][0]\n",
    "        if len(self.__main_chain) > len(other.__main_chain):\n",
    "            new_main_chain = ''.join([other.__main_chain[i] if random.randint(0, 1) else self.__main_chain[i]\n",
    "                                      for i in range(len(other))]) + self[-(len(self) - len(other)):][0]\n",
    "        if len(self.__main_chain) == len(other.__main_chain):\n",
    "            new_main_chain = ''.join([other.__main_chain[i] if random.randint(0, 1) else self.__main_chain[i]\n",
    "                                      for i in range(len(other))])\n",
    "        mul = DNA([new_main_chain])\n",
    "        return mul"
   ]
  },
  {
   "cell_type": "markdown",
   "metadata": {},
   "source": [
    "Создание структуры из строк. Обратите внимание, что в ДНК встречаются только азотистые основания ATGC, а в РНК — AUGC, поэтому, если во входной строке содержатся другие символы, необходимо поднимать ошибку (Exception)."
   ]
  },
  {
   "cell_type": "code",
   "execution_count": 237,
   "metadata": {},
   "outputs": [
    {
     "name": "stdout",
     "output_type": "stream",
     "text": [
      "Objects created\n"
     ]
    }
   ],
   "source": [
    "rna = RNA(\"AUUGAACUA\")\n",
    "dna = DNA([\"ACG\", \"TGC\"])\n",
    "print('Objects created')"
   ]
  },
  {
   "cell_type": "code",
   "execution_count": 238,
   "metadata": {},
   "outputs": [
    {
     "ename": "Exception",
     "evalue": "Incorrect DNA chain!",
     "output_type": "error",
     "traceback": [
      "\u001b[1;31m---------------------------------------------------------------------------\u001b[0m",
      "\u001b[1;31mException\u001b[0m                                 Traceback (most recent call last)",
      "\u001b[1;32m<ipython-input-238-3ecb92ac390e>\u001b[0m in \u001b[0;36m<module>\u001b[1;34m\u001b[0m\n\u001b[1;32m----> 1\u001b[1;33m \u001b[0mincorrect_dna\u001b[0m \u001b[1;33m=\u001b[0m \u001b[0mDNA\u001b[0m\u001b[1;33m(\u001b[0m\u001b[1;33m[\u001b[0m\u001b[1;34m\"A\"\u001b[0m\u001b[1;33m,\u001b[0m \u001b[1;34m\"U\"\u001b[0m\u001b[1;33m]\u001b[0m\u001b[1;33m)\u001b[0m\u001b[1;33m\u001b[0m\u001b[0m\n\u001b[0m",
      "\u001b[1;32m<ipython-input-231-117dfcdafd88>\u001b[0m in \u001b[0;36m__init__\u001b[1;34m(self, arg)\u001b[0m\n\u001b[0;32m     70\u001b[0m             \u001b[0mself\u001b[0m\u001b[1;33m.\u001b[0m\u001b[0m__compute_complement_base\u001b[0m\u001b[1;33m(\u001b[0m\u001b[1;33m)\u001b[0m\u001b[1;33m\u001b[0m\u001b[0m\n\u001b[0;32m     71\u001b[0m \u001b[1;33m\u001b[0m\u001b[0m\n\u001b[1;32m---> 72\u001b[1;33m         \u001b[0mself\u001b[0m\u001b[1;33m.\u001b[0m\u001b[0m__is_correct\u001b[0m\u001b[1;33m(\u001b[0m\u001b[1;33m)\u001b[0m\u001b[1;33m\u001b[0m\u001b[0m\n\u001b[0m\u001b[0;32m     73\u001b[0m \u001b[1;33m\u001b[0m\u001b[0m\n\u001b[0;32m     74\u001b[0m     \u001b[1;32mdef\u001b[0m \u001b[0m__compute_complement_base\u001b[0m\u001b[1;33m(\u001b[0m\u001b[0mself\u001b[0m\u001b[1;33m)\u001b[0m\u001b[1;33m:\u001b[0m\u001b[1;33m\u001b[0m\u001b[0m\n",
      "\u001b[1;32m<ipython-input-231-117dfcdafd88>\u001b[0m in \u001b[0;36m__is_correct\u001b[1;34m(self)\u001b[0m\n\u001b[0;32m    103\u001b[0m             \u001b[1;32mreturn\u001b[0m \u001b[1;32mTrue\u001b[0m\u001b[1;33m\u001b[0m\u001b[0m\n\u001b[0;32m    104\u001b[0m         \u001b[1;32melse\u001b[0m\u001b[1;33m:\u001b[0m\u001b[1;33m\u001b[0m\u001b[0m\n\u001b[1;32m--> 105\u001b[1;33m             \u001b[1;32mraise\u001b[0m \u001b[0mException\u001b[0m\u001b[1;33m(\u001b[0m\u001b[1;34m'Incorrect DNA chain!'\u001b[0m\u001b[1;33m)\u001b[0m\u001b[1;33m\u001b[0m\u001b[0m\n\u001b[0m\u001b[0;32m    106\u001b[0m \u001b[1;33m\u001b[0m\u001b[0m\n\u001b[0;32m    107\u001b[0m     \u001b[1;32mdef\u001b[0m \u001b[0m__mul__\u001b[0m\u001b[1;33m(\u001b[0m\u001b[0mself\u001b[0m\u001b[1;33m,\u001b[0m \u001b[0mother\u001b[0m\u001b[1;33m)\u001b[0m\u001b[1;33m:\u001b[0m\u001b[1;33m\u001b[0m\u001b[0m\n",
      "\u001b[1;31mException\u001b[0m: Incorrect DNA chain!"
     ]
    }
   ],
   "source": [
    "incorrect_dna = DNA([\"A\", \"U\"])"
   ]
  },
  {
   "cell_type": "code",
   "execution_count": 239,
   "metadata": {},
   "outputs": [
    {
     "ename": "AssertionError",
     "evalue": "Incorrect RNA chain!",
     "output_type": "error",
     "traceback": [
      "\u001b[1;31m---------------------------------------------------------------------------\u001b[0m",
      "\u001b[1;31mAssertionError\u001b[0m                            Traceback (most recent call last)",
      "\u001b[1;32m<ipython-input-239-ba1f66c6bf82>\u001b[0m in \u001b[0;36m<module>\u001b[1;34m\u001b[0m\n\u001b[1;32m----> 1\u001b[1;33m \u001b[0mincorrect_rna\u001b[0m \u001b[1;33m=\u001b[0m \u001b[0mRNA\u001b[0m\u001b[1;33m(\u001b[0m\u001b[1;34m\"AUUGAACUAT\"\u001b[0m\u001b[1;33m)\u001b[0m\u001b[1;33m\u001b[0m\u001b[0m\n\u001b[0m",
      "\u001b[1;32m<ipython-input-231-117dfcdafd88>\u001b[0m in \u001b[0;36m__init__\u001b[1;34m(self, chain)\u001b[0m\n\u001b[0;32m      6\u001b[0m         \u001b[0mself\u001b[0m\u001b[1;33m.\u001b[0m\u001b[0m__CORRECT_BASES\u001b[0m \u001b[1;33m=\u001b[0m \u001b[1;33m{\u001b[0m\u001b[1;34m'A'\u001b[0m\u001b[1;33m,\u001b[0m \u001b[1;34m'C'\u001b[0m\u001b[1;33m,\u001b[0m \u001b[1;34m'G'\u001b[0m\u001b[1;33m,\u001b[0m \u001b[1;34m'U'\u001b[0m\u001b[1;33m}\u001b[0m\u001b[1;33m\u001b[0m\u001b[0m\n\u001b[0;32m      7\u001b[0m         \u001b[0mself\u001b[0m\u001b[1;33m.\u001b[0m\u001b[0m__chain\u001b[0m \u001b[1;33m=\u001b[0m \u001b[0mchain\u001b[0m\u001b[1;33m\u001b[0m\u001b[0m\n\u001b[1;32m----> 8\u001b[1;33m         \u001b[0mself\u001b[0m\u001b[1;33m.\u001b[0m\u001b[0m__is_correct\u001b[0m\u001b[1;33m(\u001b[0m\u001b[1;33m)\u001b[0m\u001b[1;33m\u001b[0m\u001b[0m\n\u001b[0m\u001b[0;32m      9\u001b[0m \u001b[1;33m\u001b[0m\u001b[0m\n\u001b[0;32m     10\u001b[0m     \u001b[1;32mdef\u001b[0m \u001b[0mcompute_complement_dna\u001b[0m\u001b[1;33m(\u001b[0m\u001b[0mself\u001b[0m\u001b[1;33m)\u001b[0m\u001b[1;33m:\u001b[0m\u001b[1;33m\u001b[0m\u001b[0m\n",
      "\u001b[1;32m<ipython-input-231-117dfcdafd88>\u001b[0m in \u001b[0;36m__is_correct\u001b[1;34m(self)\u001b[0m\n\u001b[0;32m     30\u001b[0m \u001b[1;33m\u001b[0m\u001b[0m\n\u001b[0;32m     31\u001b[0m     \u001b[1;32mdef\u001b[0m \u001b[0m__is_correct\u001b[0m\u001b[1;33m(\u001b[0m\u001b[0mself\u001b[0m\u001b[1;33m)\u001b[0m\u001b[1;33m:\u001b[0m\u001b[1;33m\u001b[0m\u001b[0m\n\u001b[1;32m---> 32\u001b[1;33m         \u001b[1;32massert\u001b[0m \u001b[0mset\u001b[0m\u001b[1;33m(\u001b[0m\u001b[0mself\u001b[0m\u001b[1;33m.\u001b[0m\u001b[0m__chain\u001b[0m\u001b[1;33m)\u001b[0m\u001b[1;33m.\u001b[0m\u001b[0missubset\u001b[0m\u001b[1;33m(\u001b[0m\u001b[0mself\u001b[0m\u001b[1;33m.\u001b[0m\u001b[0m__CORRECT_BASES\u001b[0m\u001b[1;33m)\u001b[0m\u001b[1;33m,\u001b[0m \u001b[0mException\u001b[0m\u001b[1;33m(\u001b[0m\u001b[1;34m'Incorrect RNA chain!'\u001b[0m\u001b[1;33m)\u001b[0m\u001b[1;33m\u001b[0m\u001b[0m\n\u001b[0m\u001b[0;32m     33\u001b[0m \u001b[1;33m\u001b[0m\u001b[0m\n\u001b[0;32m     34\u001b[0m     \u001b[1;32mdef\u001b[0m \u001b[0m__mul__\u001b[0m\u001b[1;33m(\u001b[0m\u001b[0mself\u001b[0m\u001b[1;33m,\u001b[0m \u001b[0mother\u001b[0m\u001b[1;33m)\u001b[0m\u001b[1;33m:\u001b[0m\u001b[1;33m\u001b[0m\u001b[0m\n",
      "\u001b[1;31mAssertionError\u001b[0m: Incorrect RNA chain!"
     ]
    }
   ],
   "source": [
    "incorrect_rna = RNA(\"AUUGAACUAT\")"
   ]
  },
  {
   "cell_type": "markdown",
   "metadata": {},
   "source": [
    "Поддержка индексации: РНК по индексу возвращает i-ое азотистое основание, ДНК — пару азотистых оснований (соответствующие первой и второй цепочке)."
   ]
  },
  {
   "cell_type": "code",
   "execution_count": 240,
   "metadata": {},
   "outputs": [
    {
     "name": "stdout",
     "output_type": "stream",
     "text": [
      "Indexation works\n"
     ]
    }
   ],
   "source": [
    "assert rna[1] == 'U' and rna[4] == 'A'\n",
    "assert dna[1] == ('C', 'G') and dna[-1] == ('G', 'C')\n",
    "print('Indexation works')"
   ]
  },
  {
   "cell_type": "markdown",
   "metadata": {},
   "source": [
    "РНК может возвращать комплементарную ДНК (каждому азотистому основанию из РНК соответсвует основание для первой цепочки ДНК: A → T, U → A, G → C, C → G; вторая цепочка ДНК строится комплементарной первой строчке ДНК: A → T, T → A, G → C, C → G)."
   ]
  },
  {
   "cell_type": "code",
   "execution_count": 242,
   "metadata": {
    "scrolled": false
   },
   "outputs": [
    {
     "name": "stdout",
     "output_type": "stream",
     "text": [
      "AUUGAACUA\n"
     ]
    },
    {
     "data": {
      "text/plain": [
       "TAACTTGAT ATTGAACTA"
      ]
     },
     "execution_count": 242,
     "metadata": {},
     "output_type": "execute_result"
    }
   ],
   "source": [
    "print(rna)\n",
    "rna.compute_complement_dna()"
   ]
  },
  {
   "cell_type": "markdown",
   "metadata": {},
   "source": [
    "РНК, как и ДНК, могут складываться путем склеивания"
   ]
  },
  {
   "cell_type": "code",
   "execution_count": 243,
   "metadata": {},
   "outputs": [
    {
     "data": {
      "text/plain": [
       "AUUGAACUAAACUA"
      ]
     },
     "execution_count": 243,
     "metadata": {},
     "output_type": "execute_result"
    }
   ],
   "source": [
    "rna2 = RNA('AACUA')\n",
    "rna + rna2"
   ]
  },
  {
   "cell_type": "code",
   "execution_count": 244,
   "metadata": {},
   "outputs": [
    {
     "name": "stdout",
     "output_type": "stream",
     "text": [
      "Addition works\n"
     ]
    }
   ],
   "source": [
    "dna2 = DNA([\"TTTAAT\", \"AAATTA\"])\n",
    "assert dna + dna2 == DNA([\"ACGTTTAAT\", \"TGCAAATTA\"]), print(dna + dna2)\n",
    "print('Addition works')"
   ]
  },
  {
   "cell_type": "markdown",
   "metadata": {},
   "source": [
    "Цепочки РНК и первую и вторую цепочки у ДНК можно проверять на равенство."
   ]
  },
  {
   "cell_type": "code",
   "execution_count": 245,
   "metadata": {},
   "outputs": [
    {
     "data": {
      "text/plain": [
       "False"
      ]
     },
     "execution_count": 245,
     "metadata": {},
     "output_type": "execute_result"
    }
   ],
   "source": [
    "rna == rna2"
   ]
  },
  {
   "cell_type": "code",
   "execution_count": 246,
   "metadata": {},
   "outputs": [
    {
     "data": {
      "text/plain": [
       "True"
      ]
     },
     "execution_count": 246,
     "metadata": {},
     "output_type": "execute_result"
    }
   ],
   "source": [
    "rna == RNA(str(rna))"
   ]
  },
  {
   "cell_type": "code",
   "execution_count": 247,
   "metadata": {},
   "outputs": [
    {
     "data": {
      "text/plain": [
       "False"
      ]
     },
     "execution_count": 247,
     "metadata": {},
     "output_type": "execute_result"
    }
   ],
   "source": [
    "dna == dna2"
   ]
  },
  {
   "cell_type": "code",
   "execution_count": 248,
   "metadata": {},
   "outputs": [
    {
     "data": {
      "text/plain": [
       "True"
      ]
     },
     "execution_count": 248,
     "metadata": {},
     "output_type": "execute_result"
    }
   ],
   "source": [
    "dna == DNA([\"ACG\", \"TGC\"])"
   ]
  },
  {
   "cell_type": "markdown",
   "metadata": {},
   "source": [
    "Оба класса должны давать осмысленный вывод как при print, так и просто при вызове в ячейке."
   ]
  },
  {
   "cell_type": "code",
   "execution_count": 249,
   "metadata": {},
   "outputs": [
    {
     "name": "stdout",
     "output_type": "stream",
     "text": [
      "AUUGAACUA\n"
     ]
    }
   ],
   "source": [
    "print(rna)"
   ]
  },
  {
   "cell_type": "code",
   "execution_count": 250,
   "metadata": {},
   "outputs": [
    {
     "name": "stdout",
     "output_type": "stream",
     "text": [
      "ACG TGC\n"
     ]
    }
   ],
   "source": [
    "print(dna)"
   ]
  },
  {
   "cell_type": "markdown",
   "metadata": {},
   "source": [
    "РНК могут перемножаться друг с другом: каждое азотистое основание результирующей РНК получается случайным выбором одного из двух соответсвующих родительских азотистых оснований. Если одна из цепочек длиннее другой, то перемножение происходит с начала, а когда одна из цепочек закончится, оставшийся хвост другой переносится без изменений."
   ]
  },
  {
   "cell_type": "code",
   "execution_count": 251,
   "metadata": {},
   "outputs": [
    {
     "name": "stdout",
     "output_type": "stream",
     "text": [
      "AUCGAACUA\n"
     ]
    }
   ],
   "source": [
    "rna = RNA(\"AUUGAACUA\")\n",
    "rna2 = RNA(\"AACG\")\n",
    "print(rna*rna2)"
   ]
  },
  {
   "cell_type": "code",
   "execution_count": 252,
   "metadata": {},
   "outputs": [
    {
     "name": "stdout",
     "output_type": "stream",
     "text": [
      "AUCG\n"
     ]
    }
   ],
   "source": [
    "rna = RNA(\"AUUG\")\n",
    "rna2 = RNA(\"AACG\")\n",
    "print(rna*rna2)"
   ]
  },
  {
   "cell_type": "markdown",
   "metadata": {},
   "source": [
    "ДНК могут перемножаться друг с другом: первые цепочки каждой из ДНК перемножаются по такому же приницпу, как перемножаются РНК выше. Вторая цепочка результирующей ДНК строится как комплементарная первой."
   ]
  },
  {
   "cell_type": "code",
   "execution_count": 254,
   "metadata": {},
   "outputs": [
    {
     "data": {
      "text/plain": [
       "CAGAAG GTCTTC"
      ]
     },
     "execution_count": 254,
     "metadata": {},
     "output_type": "execute_result"
    }
   ],
   "source": [
    "dna = DNA([\"CCG\", \"GGC\"])\n",
    "dna2 = DNA([\"AAGAAG\", \"TTCTTC\"])\n",
    "dna*dna2"
   ]
  },
  {
   "cell_type": "markdown",
   "metadata": {},
   "source": []
  }
 ],
 "metadata": {
  "kernelspec": {
   "display_name": "Python 3",
   "language": "python",
   "name": "python3"
  },
  "language_info": {
   "codemirror_mode": {
    "name": "ipython",
    "version": 3
   },
   "file_extension": ".py",
   "mimetype": "text/x-python",
   "name": "python",
   "nbconvert_exporter": "python",
   "pygments_lexer": "ipython3",
   "version": "3.8.3"
  }
 },
 "nbformat": 4,
 "nbformat_minor": 2
}
